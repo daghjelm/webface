{
 "cells": [
  {
   "attachments": {},
   "cell_type": "markdown",
   "id": "f4a9d96d-f11f-4870-ad4e-ac4713390940",
   "metadata": {},
   "source": [
    "# Load datasets"
   ]
  },
  {
   "attachments": {},
   "cell_type": "markdown",
   "id": "5b0d48ad-64b4-4af4-a54d-ff9d4d206b98",
   "metadata": {},
   "source": [
    "Download datasets from bucket"
   ]
  },
  {
   "cell_type": "code",
   "execution_count": 1,
   "id": "443c5694-29f9-4b6d-9e5a-f2ce547f63ef",
   "metadata": {},
   "outputs": [
    {
     "name": "stdout",
     "output_type": "stream",
     "text": [
      "rm: data/casia-144000/.DS_Store: No such file or directory\n",
      "rm: data/casia-144000/.DS_Store: No such file or directory\n",
      "rm: data/digiface_subjects_0-1999_72_imgs/.DS_Store: No such file or directory\n",
      "rm: data/digiface_subjects_0-1999_72_imgs/.DS_Store: No such file or directory\n"
     ]
    }
   ],
   "source": [
    "# !gsutil -m cp -r gs://kex-data/casia-144000 data/ > logs.txt 2>&1\n",
    "# !gsutil -m cp -r gs://kex-data/digiface_subjects_0-1999_72_imgs/ data/ > logs2.txt 2>&1\n",
    "!rm -r data/casia-144000/.DS_Store\n",
    "!rm data/casia-144000/.DS_Store\n",
    "!rm data/digiface_subjects_0-1999_72_imgs/.DS_Store\n",
    "!rm -r data/digiface_subjects_0-1999_72_imgs/.DS_Store"
   ]
  },
  {
   "cell_type": "code",
   "execution_count": 5,
   "id": "fed5547a-9cf0-4261-a253-3f4fa94d50b1",
   "metadata": {},
   "outputs": [
    {
     "name": "stdout",
     "output_type": "stream",
     "text": [
      "2093\n",
      "2000\n"
     ]
    }
   ],
   "source": [
    "import os\n",
    "print(len(os.listdir('data/test/casia-144000')))\n",
    "print(len(os.listdir('data/digiface_subjects_0-1999_72_imgs')))"
   ]
  },
  {
   "cell_type": "code",
   "execution_count": 51,
   "id": "46dbadca-5135-42a7-ab01-2694e81f4827",
   "metadata": {},
   "outputs": [],
   "source": [
    "import torch\n",
    "from torchvision import datasets, models, transforms\n",
    "from torch.utils.data import DataLoader\n",
    "\n",
    "train_transform = transforms.Compose([\n",
    "    # transforms.Resize((224, 224)),\n",
    "    # transforms.RandomApply([transforms.Resize(112),\n",
    "    #                         transforms.RandomCrop((112, 96))]),\n",
    "    transforms.RandomHorizontalFlip(),\n",
    "    transforms.ToTensor(), \n",
    "    transforms.Normalize(mean=(0.5, 0.5, 0.5), std=(0.5, 0.5, 0.5)),  \n",
    "    transforms.RandomRotation(10)\n",
    "    # transforms.RandomErasing()\n",
    "])\n",
    "\n",
    "# data_path = 'data/casia-webface'\n",
    "# data_path = 'data/webface-10'\n",
    "train_data_path = 'data/train/casia-144000'\n",
    "train_data_path_test = 'data/test/casia-144000'\n",
    "\n",
    "batch_size = 256\n",
    "\n",
    "train_data = datasets.ImageFolder(train_data_path, transform=train_transform)\n",
    "\n",
    "train_loader = torch.utils.data.DataLoader(\n",
    "    train_data, shuffle=True, batch_size=batch_size)\n",
    "\n",
    "train_data_test = datasets.ImageFolder(train_data_path_test, transform=train_transform)\n",
    "\n",
    "train_loader_test = torch.utils.data.DataLoader(\n",
    "    train_data_test, shuffle=True, batch_size=batch_size)"
   ]
  },
  {
   "cell_type": "code",
   "execution_count": 52,
   "id": "0d15be1f-3825-496a-b2cd-63c74d38a430",
   "metadata": {},
   "outputs": [],
   "source": [
    "# Make sure dataset is loaded correctly"
   ]
  },
  {
   "cell_type": "code",
   "execution_count": 53,
   "id": "d6b8ea9a-6cdb-48a1-bc59-425666287fc7",
   "metadata": {},
   "outputs": [
    {
     "name": "stdout",
     "output_type": "stream",
     "text": [
      "image torch.Size([3, 112, 112])\n",
      "label tensor(93)\n"
     ]
    }
   ],
   "source": [
    "iterator = iter(train_loader)\n",
    "image, label = next(iterator)\n",
    "print(len(train_data))\n",
    "print(len(train_data_test))\n",
    "\n",
    "print(\"image\", image[0].shape)\n",
    "print(\"label\", label[0])"
   ]
  },
  {
   "cell_type": "code",
   "execution_count": 54,
   "id": "2893d970-01b1-4501-9e4c-484bf87e48d2",
   "metadata": {},
   "outputs": [],
   "source": [
    "# Init the model"
   ]
  },
  {
   "cell_type": "code",
   "execution_count": 55,
   "id": "e610a2b7-4e25-4a03-a0cb-4a69cfa0c303",
   "metadata": {},
   "outputs": [
    {
     "name": "stdout",
     "output_type": "stream",
     "text": [
      "2094\n",
      "mps\n"
     ]
    },
    {
     "data": {
      "text/plain": [
       "ResNet(\n",
       "  (conv1): Conv2d(3, 64, kernel_size=(7, 7), stride=(2, 2), padding=(3, 3), bias=False)\n",
       "  (bn1): BatchNorm2d(64, eps=1e-05, momentum=0.1, affine=True, track_running_stats=True)\n",
       "  (relu): ReLU(inplace=True)\n",
       "  (maxpool): MaxPool2d(kernel_size=3, stride=2, padding=1, dilation=1, ceil_mode=False)\n",
       "  (layer1): Sequential(\n",
       "    (0): BasicBlock(\n",
       "      (conv1): Conv2d(64, 64, kernel_size=(3, 3), stride=(1, 1), padding=(1, 1), bias=False)\n",
       "      (bn1): BatchNorm2d(64, eps=1e-05, momentum=0.1, affine=True, track_running_stats=True)\n",
       "      (relu): ReLU(inplace=True)\n",
       "      (conv2): Conv2d(64, 64, kernel_size=(3, 3), stride=(1, 1), padding=(1, 1), bias=False)\n",
       "      (bn2): BatchNorm2d(64, eps=1e-05, momentum=0.1, affine=True, track_running_stats=True)\n",
       "    )\n",
       "    (1): BasicBlock(\n",
       "      (conv1): Conv2d(64, 64, kernel_size=(3, 3), stride=(1, 1), padding=(1, 1), bias=False)\n",
       "      (bn1): BatchNorm2d(64, eps=1e-05, momentum=0.1, affine=True, track_running_stats=True)\n",
       "      (relu): ReLU(inplace=True)\n",
       "      (conv2): Conv2d(64, 64, kernel_size=(3, 3), stride=(1, 1), padding=(1, 1), bias=False)\n",
       "      (bn2): BatchNorm2d(64, eps=1e-05, momentum=0.1, affine=True, track_running_stats=True)\n",
       "    )\n",
       "  )\n",
       "  (layer2): Sequential(\n",
       "    (0): BasicBlock(\n",
       "      (conv1): Conv2d(64, 128, kernel_size=(3, 3), stride=(2, 2), padding=(1, 1), bias=False)\n",
       "      (bn1): BatchNorm2d(128, eps=1e-05, momentum=0.1, affine=True, track_running_stats=True)\n",
       "      (relu): ReLU(inplace=True)\n",
       "      (conv2): Conv2d(128, 128, kernel_size=(3, 3), stride=(1, 1), padding=(1, 1), bias=False)\n",
       "      (bn2): BatchNorm2d(128, eps=1e-05, momentum=0.1, affine=True, track_running_stats=True)\n",
       "      (downsample): Sequential(\n",
       "        (0): Conv2d(64, 128, kernel_size=(1, 1), stride=(2, 2), bias=False)\n",
       "        (1): BatchNorm2d(128, eps=1e-05, momentum=0.1, affine=True, track_running_stats=True)\n",
       "      )\n",
       "    )\n",
       "    (1): BasicBlock(\n",
       "      (conv1): Conv2d(128, 128, kernel_size=(3, 3), stride=(1, 1), padding=(1, 1), bias=False)\n",
       "      (bn1): BatchNorm2d(128, eps=1e-05, momentum=0.1, affine=True, track_running_stats=True)\n",
       "      (relu): ReLU(inplace=True)\n",
       "      (conv2): Conv2d(128, 128, kernel_size=(3, 3), stride=(1, 1), padding=(1, 1), bias=False)\n",
       "      (bn2): BatchNorm2d(128, eps=1e-05, momentum=0.1, affine=True, track_running_stats=True)\n",
       "    )\n",
       "  )\n",
       "  (layer3): Sequential(\n",
       "    (0): BasicBlock(\n",
       "      (conv1): Conv2d(128, 256, kernel_size=(3, 3), stride=(2, 2), padding=(1, 1), bias=False)\n",
       "      (bn1): BatchNorm2d(256, eps=1e-05, momentum=0.1, affine=True, track_running_stats=True)\n",
       "      (relu): ReLU(inplace=True)\n",
       "      (conv2): Conv2d(256, 256, kernel_size=(3, 3), stride=(1, 1), padding=(1, 1), bias=False)\n",
       "      (bn2): BatchNorm2d(256, eps=1e-05, momentum=0.1, affine=True, track_running_stats=True)\n",
       "      (downsample): Sequential(\n",
       "        (0): Conv2d(128, 256, kernel_size=(1, 1), stride=(2, 2), bias=False)\n",
       "        (1): BatchNorm2d(256, eps=1e-05, momentum=0.1, affine=True, track_running_stats=True)\n",
       "      )\n",
       "    )\n",
       "    (1): BasicBlock(\n",
       "      (conv1): Conv2d(256, 256, kernel_size=(3, 3), stride=(1, 1), padding=(1, 1), bias=False)\n",
       "      (bn1): BatchNorm2d(256, eps=1e-05, momentum=0.1, affine=True, track_running_stats=True)\n",
       "      (relu): ReLU(inplace=True)\n",
       "      (conv2): Conv2d(256, 256, kernel_size=(3, 3), stride=(1, 1), padding=(1, 1), bias=False)\n",
       "      (bn2): BatchNorm2d(256, eps=1e-05, momentum=0.1, affine=True, track_running_stats=True)\n",
       "    )\n",
       "  )\n",
       "  (layer4): Sequential(\n",
       "    (0): BasicBlock(\n",
       "      (conv1): Conv2d(256, 512, kernel_size=(3, 3), stride=(2, 2), padding=(1, 1), bias=False)\n",
       "      (bn1): BatchNorm2d(512, eps=1e-05, momentum=0.1, affine=True, track_running_stats=True)\n",
       "      (relu): ReLU(inplace=True)\n",
       "      (conv2): Conv2d(512, 512, kernel_size=(3, 3), stride=(1, 1), padding=(1, 1), bias=False)\n",
       "      (bn2): BatchNorm2d(512, eps=1e-05, momentum=0.1, affine=True, track_running_stats=True)\n",
       "      (downsample): Sequential(\n",
       "        (0): Conv2d(256, 512, kernel_size=(1, 1), stride=(2, 2), bias=False)\n",
       "        (1): BatchNorm2d(512, eps=1e-05, momentum=0.1, affine=True, track_running_stats=True)\n",
       "      )\n",
       "    )\n",
       "    (1): BasicBlock(\n",
       "      (conv1): Conv2d(512, 512, kernel_size=(3, 3), stride=(1, 1), padding=(1, 1), bias=False)\n",
       "      (bn1): BatchNorm2d(512, eps=1e-05, momentum=0.1, affine=True, track_running_stats=True)\n",
       "      (relu): ReLU(inplace=True)\n",
       "      (conv2): Conv2d(512, 512, kernel_size=(3, 3), stride=(1, 1), padding=(1, 1), bias=False)\n",
       "      (bn2): BatchNorm2d(512, eps=1e-05, momentum=0.1, affine=True, track_running_stats=True)\n",
       "    )\n",
       "  )\n",
       "  (avgpool): AdaptiveAvgPool2d(output_size=(1, 1))\n",
       "  (fc): Linear(in_features=512, out_features=2094, bias=True)\n",
       ")"
      ]
     },
     "execution_count": 55,
     "metadata": {},
     "output_type": "execute_result"
    }
   ],
   "source": [
    "from torchvision.models import resnet18, ResNet18_Weights\n",
    "from torch import nn, optim\n",
    "import os\n",
    "# model = resnet18(weights=ResNet18_Weights.IMAGENET1K_V1)\n",
    "model = resnet18()\n",
    "num_classes = len(os.listdir(train_data_path))\n",
    "print(num_classes)\n",
    "\n",
    "device = \"cuda\" if torch.cuda.is_available() else \"mps\" if torch.backends.mps.is_available() else \"cpu\"\n",
    "print(device)\n",
    "\n",
    "model.fc = nn.Linear(512, num_classes)\n",
    "model.to(device)"
   ]
  },
  {
   "cell_type": "code",
   "execution_count": 56,
   "id": "04f10d27-c704-4720-b854-129a7a49f63d",
   "metadata": {},
   "outputs": [],
   "source": [
    "import matplotlib.pyplot as plt\n",
    "import numpy as np\n",
    "\n",
    "def imshow(img):\n",
    "    # img = img / 2 + 0.5     # unnormalize\n",
    "    npimg = img.numpy()\n",
    "    plt.imshow(np.transpose(npimg, (1, 2, 0)))\n",
    "    plt.show()"
   ]
  },
  {
   "cell_type": "code",
   "execution_count": 57,
   "id": "6405ac8a-28a5-4fbb-8b34-0dde0fd3c8b9",
   "metadata": {},
   "outputs": [],
   "source": [
    "from PIL import Image\n",
    "\n",
    "# img = Image.open('./data/webface-10/000000/00000001.jpg')\n",
    "# timg = transforms.ToTensor()(img)\n",
    "# imshow(timg)\n",
    "# print(device)\n",
    "# timg = timg.unsqueeze(0).to(device)\n",
    "# # model.to(device)\n",
    "# print(model(timg))"
   ]
  },
  {
   "attachments": {},
   "cell_type": "markdown",
   "id": "2d1b12e7-f998-4449-965d-f352c5fb5548",
   "metadata": {},
   "source": [
    "Load LFW"
   ]
  },
  {
   "cell_type": "code",
   "execution_count": 58,
   "id": "023c1cc0-b4ea-402f-a422-1f43b74fdcc3",
   "metadata": {},
   "outputs": [
    {
     "name": "stdout",
     "output_type": "stream",
     "text": [
      "Files already downloaded and verified\n"
     ]
    }
   ],
   "source": [
    "batch_size_test = 256\n",
    "\n",
    "test_transform = transforms.Compose([\n",
    "    transforms.ToTensor(),\n",
    "    transforms.Normalize(mean=(0.5, 0.5, 0.5), std=(0.5, 0.5, 0.5)),  \n",
    "])\n",
    "\n",
    "lfw_test = datasets.LFWPairs(root='data', split='10fold', transform=test_transform, download=True)\n",
    "\n",
    "test_loader = DataLoader(lfw_test, batch_size=batch_size_test, shuffle=True)"
   ]
  },
  {
   "cell_type": "code",
   "execution_count": 59,
   "id": "2501a246-4007-4668-bd4c-a28a23c51aee",
   "metadata": {},
   "outputs": [
    {
     "name": "stdout",
     "output_type": "stream",
     "text": [
      "6000\n",
      "24\n"
     ]
    }
   ],
   "source": [
    "print(len(lfw_test))\n",
    "print(len(test_loader))"
   ]
  },
  {
   "attachments": {},
   "cell_type": "markdown",
   "id": "ce96d973-423e-4d78-a213-0d5f1d34e4da",
   "metadata": {},
   "source": [
    "Feature extractor:"
   ]
  },
  {
   "cell_type": "code",
   "execution_count": 60,
   "id": "18637395-380c-45b2-a073-5ed1c1ed3415",
   "metadata": {},
   "outputs": [],
   "source": [
    "import torch.nn.functional as F\n",
    "\n",
    "def model_to_extractor(model):\n",
    "    model.eval()\n",
    "    feature_map = list(model.children())\n",
    "    feature_map.pop()  # remove the final \"class prediction\" layer\n",
    "    extractor = nn.Sequential(*feature_map) # create feature extractor\n",
    "    # Inspect the structure - it is a nested list of various modules\n",
    "    # print extractor[-1]       \n",
    "    # print extractor[-2][-1]   \n",
    "    return extractor\n",
    "\n",
    "extractor = model_to_extractor(model)\n",
    "\n",
    "def extract_features():\n",
    "    labels_list = []\n",
    "    extractor.to(device)\n",
    "    extractor.eval()\n",
    "    feat_pair1 = []\n",
    "    feat_pair2 = []\n",
    "    n = 0\n",
    "\n",
    "    with torch.no_grad():\n",
    "        for (imgs1, imgs2, labels) in iter(test_loader):\n",
    "            imgs1, imgs2 = imgs1.to(device), imgs2.to(device)\n",
    "            imgs1_out = extractor(imgs1)\n",
    "            imgs2_out = extractor(imgs2)\n",
    "            feat_pair1.append(imgs1_out.data)\n",
    "            feat_pair2.append(imgs2_out.data)\n",
    "            labels_list.append(labels.data)\n",
    "            if (n == 10):\n",
    "                print('done extracting for iteration', n)\n",
    "        \n",
    "    return feat_pair1, feat_pair2, labels_list\n"
   ]
  },
  {
   "cell_type": "code",
   "execution_count": 61,
   "id": "93463ddf-bc2f-4504-ba74-844762adbc5a",
   "metadata": {},
   "outputs": [],
   "source": [
    "def tlist_to_squeezed(tensor_list):\n",
    "    #Merge the array of tensors into one tensor\n",
    "    merged_tensor = torch.cat(tensor_list, dim=0)\n",
    "    return merged_tensor.squeeze() #Remove the extra dimension\n",
    "\n",
    "def tlist_distance(tlist1, tlist2):\n",
    "    tlist1 = tlist_to_squeezed(tlist1)\n",
    "    tlist2 = tlist_to_squeezed(tlist2)\n",
    "    return torch.norm(tlist1 - tlist2, dim=1)"
   ]
  },
  {
   "attachments": {},
   "cell_type": "markdown",
   "id": "f253eb13-bd82-4977-9de8-30e7067a6c90",
   "metadata": {},
   "source": [
    "Validate the model with the ROC AUC method"
   ]
  },
  {
   "cell_type": "code",
   "execution_count": 62,
   "id": "352f5ba9-8e63-4055-bf7b-96f10b929be3",
   "metadata": {},
   "outputs": [],
   "source": [
    "import matplotlib.pyplot as plt\n",
    "import sklearn.metrics\n",
    "\n",
    "def get_test_accuracy(should_print=False):\n",
    "    feat_pair1, feat_pair2, labels = extract_features()\n",
    "    feature_distance = tlist_distance(feat_pair1, feat_pair2)\n",
    "    feat_dist = feature_distance.cpu().numpy()\n",
    "\n",
    "    # Eval metrics\n",
    "    scores = -feat_dist\n",
    "    gt = torch.cat(labels).numpy()\n",
    "\n",
    "    roc_auc = sklearn.metrics.roc_auc_score(gt, scores)\n",
    "    fpr, tpr, thresholds = sklearn.metrics.roc_curve(gt, scores)\n",
    "    fig_path = \"./figures/roc_auc.png\"\n",
    "    \n",
    "    if should_print:\n",
    "        print ('ROC-AUC: %.04f' % roc_auc)\n",
    "    # Plot and save ROC curve\n",
    "    plot_roc(fpr, tpr, roc_auc, fig_path)\n",
    "    return roc_auc\n",
    "\n",
    "def plot_roc(fpr, tpr, roc_auc, fig_path, show=False):\n",
    "    plt.title('ROC - lfw dev-test')\n",
    "    plt.plot(fpr, tpr, lw=2, label='ROC (auc = %0.4f)' % roc_auc)\n",
    "    plt.xlim([0.0, 1.0])\n",
    "    plt.ylim([0.0, 1.05])\n",
    "    plt.grid()\n",
    "    plt.xlabel('False Positive Rate')\n",
    "    plt.ylabel('True Positive Rate')\n",
    "    plt.legend(loc='lower right')\n",
    "    plt.tight_layout()\n",
    "    plt.savefig(fig_path, bbox_inches='tight')\n",
    "    if show:\n",
    "        plt.show()\n",
    "\n",
    "# get_test_accuracy()"
   ]
  },
  {
   "attachments": {},
   "cell_type": "markdown",
   "id": "6b2ac330-542f-493c-97db-10e9a5b63b82",
   "metadata": {},
   "source": [
    "Validate model with the synface method "
   ]
  },
  {
   "cell_type": "code",
   "execution_count": 63,
   "id": "b6313cdc-5a21-45f4-a862-cf9d80cafb29",
   "metadata": {},
   "outputs": [],
   "source": [
    "import time \n",
    "\n",
    "def extractDeepFeature(img, model, device):\n",
    "    # model.to(device)\n",
    "    img = img.to(device)\n",
    "    fc = model(img)\n",
    "    fc = fc.to('cpu').squeeze()\n",
    "    # fc = fc.to('cpu')\n",
    "    \n",
    "    return fc\n",
    "\n",
    "def KFold(n=6000, n_folds=10):\n",
    "    folds = []\n",
    "    base = list(range(n))\n",
    "    for i in range(n_folds):\n",
    "        test = base[int(i * n / n_folds):int((i + 1) * n / n_folds)]\n",
    "        train = list(set(base) - set(test))\n",
    "        folds.append([train, test])\n",
    "    return folds\n",
    "\n",
    "\n",
    "def eval_acc(threshold, diff):\n",
    "    y_true = []\n",
    "    y_predict = []\n",
    "    for d in diff:\n",
    "        same = 1 if float(d[0]) > threshold else 0\n",
    "        y_predict.append(same)\n",
    "        y_true.append(int(d[1]))\n",
    "    y_true = np.array(y_true)\n",
    "    y_predict = np.array(y_predict)\n",
    "    accuracy = 1.0 * np.count_nonzero(y_true == y_predict) / len(y_true)\n",
    "    return accuracy\n",
    "\n",
    "#create a random tensor x\n",
    "x = torch.randn(2, 3)\n",
    "\n",
    "def find_best_threshold(thresholds, predicts):\n",
    "    best_threshold = best_acc = 0\n",
    "    for threshold in thresholds:\n",
    "        accuracy = eval_acc(threshold, predicts)\n",
    "        if accuracy >= best_acc:\n",
    "            best_acc = accuracy\n",
    "            best_threshold = threshold\n",
    "    return best_threshold\n",
    "\n",
    "def cosine_similarity(f1, f2):\n",
    "    # compute cosine_similarity for 2-D array\n",
    "    f1 = f1.numpy()\n",
    "    f2 = f2.numpy()\n",
    "\n",
    "    A = np.sum(f1*f2, axis=1)\n",
    "    B = np.linalg.norm(f1, axis=1) * np.linalg.norm(f2, axis=1) + 1e-5\n",
    "\n",
    "    return A / B\n",
    "\n",
    "def compute_distance(img1, img2, model, flag, device):\n",
    "        f1 = extractDeepFeature(img1, model, device)\n",
    "        f2 = extractDeepFeature(img2, model, device)\n",
    "\n",
    "        distance = cosine_similarity(f1, f2)\n",
    "\n",
    "        flag = flag.squeeze().numpy()\n",
    "        return np.stack((distance, flag), axis=1)\n",
    "\n",
    "def obtain_acc(predicts, num_class, start, should_print=False):\n",
    "    accuracy = []\n",
    "    thd = []\n",
    "    folds = KFold(n=num_class, n_folds=10)\n",
    "    thresholds = np.arange(-1.0, 1.0, 0.005)\n",
    "    \n",
    "    for idx, (train, test) in enumerate(folds):\n",
    "        best_thresh = find_best_threshold(thresholds, predicts[train])\n",
    "        accuracy.append(eval_acc(best_thresh, predicts[test]))\n",
    "        thd.append(best_thresh)\n",
    "    end = time.time()\n",
    "    time_used = (end - start) / 60.0\n",
    "    # logger.info('LFW_ACC={:.4f} std={:.4f} thd={:.4f} time_used={:.4f} mins'.format(np.mean(accuracy), np.std(accuracy), np.mean(thd), time_used))\n",
    "    if should_print:\n",
    "        print('LFW_ACC={:.4f} std={:.4f} thd={:.4f} time_used={:.4f} mins'.format(np.mean(accuracy), np.std(accuracy), np.mean(thd), time_used))\n",
    "    return np.mean(accuracy)\n",
    "\n",
    "\n",
    "def eval(model, num_classes, test_loader, device, should_print=False):\n",
    "    predicts = np.zeros(shape=(len(test_loader.dataset), 2))\n",
    "\n",
    "    model.eval()\n",
    "    start = time.time()\n",
    "\n",
    "    cur = 0\n",
    "    with torch.no_grad():\n",
    "        for (img1, img2, flag) in iter(test_loader):\n",
    "            predicts[cur:cur+flag.shape[0]] = compute_distance(img1, img2, model, flag, device)\n",
    "            cur += flag.shape[0]\n",
    "    assert cur == predicts.shape[0]\n",
    "\n",
    "    accuracy = obtain_acc(predicts, num_classes, start)\n",
    "\n",
    "    # visualize the masks stats\n",
    "    if should_print:\n",
    "        print('LFW_ACC', np.mean(accuracy))\n",
    "\n",
    "    return np.mean(accuracy), predicts"
   ]
  },
  {
   "attachments": {},
   "cell_type": "markdown",
   "id": "3b865bab-fffd-416c-86e7-331408ede964",
   "metadata": {},
   "source": [
    "# Train and validate the model"
   ]
  },
  {
   "cell_type": "code",
   "execution_count": 64,
   "id": "62b42d16-f550-441a-be9a-057f000e170d",
   "metadata": {},
   "outputs": [],
   "source": [
    "import time\n",
    "import datetime\n",
    "import torch\n",
    "import torch.nn as nn\n",
    "import torch.optim as optim\n",
    "\n",
    "learning_rate = 0.1\n",
    "num_epochs = 24\n",
    "weight_decay = 0.0\n",
    "momentum = 0.9\n",
    "\n",
    "output_to_file = True\n",
    "epoch_output_threshold = 10\n",
    "epoch_output_mod = 2\n",
    "loss_output_mod = 10\n",
    "\n",
    "#The learning rate starts from 0.1, and is divided by 10 at the 24, 30\n",
    "#and 36 epochs, with 40 epochs in total.\n",
    "lr_milestones = [10, 24, 30]\n",
    "lr_gamma = 0.1\n",
    "\n",
    "loss_fn = nn.CrossEntropyLoss()\n",
    "optimizer = optim.SGD(model.parameters(),\n",
    "                    lr=learning_rate,\n",
    "                    momentum=momentum,\n",
    "                    weight_decay=weight_decay)\n",
    "lr_scheduler = torch.optim.lr_scheduler.MultiStepLR(\n",
    "        optimizer, milestones=lr_milestones, gamma=lr_gamma)\n",
    "\n",
    "if output_to_file:\n",
    "    outputfile = open('output_'+datetime.datetime.now().strftime(\"%Y%m%d-%H%M%S\")+'.txt', 'w')\n",
    "\n",
    "def output(text):\n",
    "    if output_to_file:\n",
    "        outputfile.write(text + '\\n')\n",
    "    else:\n",
    "        print(text)\n",
    "\n",
    "def get_train_accuracy(model: nn.Module, test=True):\n",
    "    correct = 0\n",
    "    total = 0\n",
    "    n = 0\n",
    "    loader = train_loader_test if test else train_loader\n",
    "    with torch.no_grad():\n",
    "        for imgs, labels in iter(loader):\n",
    "            imgs, labels = imgs.to(device), labels.to(device)\n",
    "            model.eval()\n",
    "            output = model(imgs)\n",
    "            pred = output.max(1)[1]\n",
    "            correct += pred.eq(labels).sum().item()\n",
    "            total += imgs.shape[0]\n",
    "            n += 1\n",
    "    return correct / total \n",
    "\n",
    "for epoch in range(num_epochs):\n",
    "    n = 0\n",
    "    epoch_tic = time.perf_counter()\n",
    "    for imgs, labels in iter(train_loader):\n",
    "        tic = time.perf_counter()\n",
    "        imgs = imgs.to(device)\n",
    "        labels = labels.to(device)\n",
    "\n",
    "        model.train()\n",
    "\n",
    "        out = model(imgs)\n",
    "        loss = loss_fn(out, labels)\n",
    "\n",
    "        optimizer.zero_grad()\n",
    "        loss.backward()\n",
    "        optimizer.step()\n",
    "        n += 1\n",
    "        if n % loss_output_mod == 0:\n",
    "            toc = time.perf_counter()\n",
    "            output('epoch: {}, iter: {}, loss: {}, time: {}'.format(epoch, n, loss, toc - tic))\n",
    "            outputfile.flush()\n",
    "    if epoch > epoch_output_threshold and epoch % epoch_output_mod == 0:\n",
    "        output('train acc: {}'.format(get_train_accuracy(model, test=False)))\n",
    "        output('roc auc: {}'.format(get_test_accuracy()))\n",
    "        output('eval: {}'.format(eval(model, len(lfw_test), test_loader, device)[0]))\n",
    "    lr_scheduler.step() \n",
    "    epoch_toc = time.perf_counter()\n",
    "    output('epoch time: {}'.format(epoch_toc - epoch_tic))\n",
    "    outputfile.flush()\n",
    "output('train acc: {}'.format(get_train_accuracy(model, test=False)))\n",
    "output('roc auc: {}'.format(get_test_accuracy()))\n",
    "output('eval: {}'.format(eval(model, len(lfw_test), test_loader, device)[0]))\n",
    "\n",
    "if output_to_file:\n",
    "    outputfile.close()"
   ]
  },
  {
   "cell_type": "code",
   "execution_count": null,
   "id": "d705be43",
   "metadata": {},
   "outputs": [
    {
     "data": {
      "image/png": "[encoded data removed]",
      "text/plain": [
       "<Figure size 640x480 with 1 Axes>"
      ]
     },
     "metadata": {},
     "output_type": "display_data"
    }
   ],
   "source": [
    "output('train acc: {}'.format(get_train_accuracy(model, test=False)))\n",
    "output('roc auc: {}'.format(get_test_accuracy()))"
   ]
  },
  {
   "cell_type": "code",
   "execution_count": null,
   "id": "4100e2ec",
   "metadata": {},
   "outputs": [],
   "source": [
    "outputfile.flush()\n",
    "outputfile.close()"
   ]
  }
 ],
 "metadata": {
  "kernelspec": {
   "display_name": "webface",
   "language": "python",
   "name": "python3"
  },
  "language_info": {
   "codemirror_mode": {
    "name": "ipython",
    "version": 3
   },
   "file_extension": ".py",
   "mimetype": "text/x-python",
   "name": "python",
   "nbconvert_exporter": "python",
   "pygments_lexer": "ipython3",
   "version": "3.10.11"
  }
 },
 "nbformat": 4,
 "nbformat_minor": 5
}
